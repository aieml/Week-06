{
 "cells": [
  {
   "cell_type": "code",
   "execution_count": 1,
   "metadata": {},
   "outputs": [],
   "source": [
    "from sklearn.datasets import load_iris\n",
    "\n",
    "dataset=load_iris()\n",
    "\n",
    "data=dataset.data\n",
    "target=dataset.target"
   ]
  },
  {
   "cell_type": "code",
   "execution_count": 11,
   "metadata": {},
   "outputs": [
    {
     "name": "stdout",
     "output_type": "stream",
     "text": [
      "Cluster Centers: [[6.05957447 2.83404255 4.58723404 1.5       ]\n",
      " [4.98888889 3.41111111 1.48       0.24666667]\n",
      " [6.63333333 3.06666667 5.54814815 2.1       ]]\n",
      "# Cluster Centers: 3\n",
      "0-50: [1 1 1 1 1 1 1 1 1 1 1 1 1 1 1 1 1 1 1 1 1 1 1 1 1 1 1 1 1 1 1 1 1 1 1 1 1\n",
      " 1 1 1 1 1 1 1 1 1 1 1 1 1]\n",
      "===================================================================\n",
      "50-100: [0 0 2 0 0 0 0 0 0 0 0 0 0 0 0 0 0 0 0 0 0 0 0 0 0 0 0 2 0 0 0 0 0 0 0 0 0\n",
      " 0 0 0 0 0 0 0 0 0 0 0 0 0]\n",
      "===================================================================\n",
      "100-150: [2 0 2 2 2 2 0 2 2 2 2 2 2 0 2 2 2 2 2 0 2 0 2 0 2 2 0 0 2 2 2 2 2 0 2 2 2\n",
      " 2 0 2 2 2 0 2 2 2 0 2 2 0]\n"
     ]
    }
   ],
   "source": [
    "from sklearn.cluster import MeanShift\n",
    "\n",
    "model=MeanShift(bandwidth=0.85) #K value\n",
    "model.fit(data)\n",
    "labels=model.labels_\n",
    "\n",
    "cluster_cen=model.cluster_centers_\n",
    "\n",
    "print(\"Cluster Centers:\",cluster_cen)\n",
    "print(\"# Cluster Centers:\",len(cluster_cen))\n",
    "\n",
    "print(\"0-50:\",labels[:50])\n",
    "print(\"===================================================================\")\n",
    "print(\"50-100:\",labels[50:100])\n",
    "print(\"===================================================================\")\n",
    "print(\"100-150:\",labels[100:150])"
   ]
  },
  {
   "cell_type": "code",
   "execution_count": null,
   "metadata": {},
   "outputs": [],
   "source": []
  }
 ],
 "metadata": {
  "kernelspec": {
   "display_name": "Python 3",
   "language": "python",
   "name": "python3"
  },
  "language_info": {
   "codemirror_mode": {
    "name": "ipython",
    "version": 3
   },
   "file_extension": ".py",
   "mimetype": "text/x-python",
   "name": "python",
   "nbconvert_exporter": "python",
   "pygments_lexer": "ipython3",
   "version": "3.7.4"
  }
 },
 "nbformat": 4,
 "nbformat_minor": 2
}
